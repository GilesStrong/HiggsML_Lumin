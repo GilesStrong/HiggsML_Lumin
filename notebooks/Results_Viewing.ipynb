{
 "cells": [
  {
   "cell_type": "code",
   "execution_count": 2,
   "metadata": {},
   "outputs": [
    {
     "name": "stderr",
     "output_type": "stream",
     "text": [
      "/home/giles/anaconda3/lib/python3.6/site-packages/h5py/__init__.py:36: FutureWarning: Conversion of the second argument of issubdtype from `float` to `np.floating` is deprecated. In future, it will be treated as `np.float64 == np.dtype(float).type`.\n",
      "  from ._conv import register_converters as _register_converters\n"
     ]
    }
   ],
   "source": [
    "%matplotlib inline\n",
    "%reload_ext autoreload\n",
    "%autoreload 2\n",
    "from __future__ import division\n",
    "import sys\n",
    "import os\n",
    "sys.path.append('../')\n",
    "from modules.basics import *"
   ]
  },
  {
   "cell_type": "code",
   "execution_count": 4,
   "metadata": {},
   "outputs": [],
   "source": [
    "RESULTS_PATH = Path('../results/')\n",
    "BLIND = False"
   ]
  },
  {
   "cell_type": "code",
   "execution_count": 5,
   "metadata": {},
   "outputs": [
    {
     "name": "stdout",
     "output_type": "stream",
     "text": [
      "13_swish_ensemble_embed_aug_onecycle_dense_helios_cpu.json\r\n",
      "13_swish_ensemble_embed_aug_onecycle_dense_helios_cuda.json\r\n",
      "13_swish_ensemble_embed_aug_onecycle_dense_mbp.json\r\n"
     ]
    }
   ],
   "source": [
    "!ls {RESULTS_PATH}"
   ]
  },
  {
   "cell_type": "markdown",
   "metadata": {
    "heading_collapsed": true
   },
   "source": [
    "# ReLU Baseline "
   ]
  },
  {
   "cell_type": "code",
   "execution_count": null,
   "metadata": {
    "hidden": true
   },
   "outputs": [],
   "source": [
    "relu_baseline = Result('0_relu_baseline', RESULTS_PATH, is_blind=BLIND)"
   ]
  },
  {
   "cell_type": "code",
   "execution_count": null,
   "metadata": {
    "hidden": true
   },
   "outputs": [],
   "source": [
    "relu_baseline"
   ]
  },
  {
   "cell_type": "code",
   "execution_count": null,
   "metadata": {
    "hidden": true,
    "scrolled": false
   },
   "outputs": [],
   "source": [
    "relu_baseline.print_results()"
   ]
  },
  {
   "cell_type": "code",
   "execution_count": null,
   "metadata": {
    "hidden": true
   },
   "outputs": [],
   "source": [
    "relu_baseline.print_table_row(relu_baseline)"
   ]
  },
  {
   "cell_type": "code",
   "execution_count": null,
   "metadata": {
    "hidden": true
   },
   "outputs": [],
   "source": [
    "relu_baseline.plot()"
   ]
  },
  {
   "cell_type": "markdown",
   "metadata": {
    "heading_collapsed": true
   },
   "source": [
    "# ReLU Ensemble "
   ]
  },
  {
   "cell_type": "code",
   "execution_count": null,
   "metadata": {
    "hidden": true
   },
   "outputs": [],
   "source": [
    "relu_ensemble = Result('1_relu_ensemble', RESULTS_PATH, is_blind=BLIND)"
   ]
  },
  {
   "cell_type": "code",
   "execution_count": null,
   "metadata": {
    "hidden": true
   },
   "outputs": [],
   "source": [
    "relu_ensemble"
   ]
  },
  {
   "cell_type": "code",
   "execution_count": null,
   "metadata": {
    "hidden": true,
    "scrolled": false
   },
   "outputs": [],
   "source": [
    "relu_ensemble.print_results()"
   ]
  },
  {
   "cell_type": "code",
   "execution_count": null,
   "metadata": {
    "hidden": true
   },
   "outputs": [],
   "source": [
    "relu_ensemble.print_table_row(relu_baseline)"
   ]
  },
  {
   "cell_type": "code",
   "execution_count": null,
   "metadata": {
    "hidden": true
   },
   "outputs": [],
   "source": [
    "relu_ensemble.plot()"
   ]
  },
  {
   "cell_type": "code",
   "execution_count": null,
   "metadata": {
    "hidden": true,
    "scrolled": false
   },
   "outputs": [],
   "source": [
    "relu_ensemble.compare_to(relu_baseline)"
   ]
  },
  {
   "cell_type": "markdown",
   "metadata": {
    "heading_collapsed": true
   },
   "source": [
    "# ReLU Ensemble Embed"
   ]
  },
  {
   "cell_type": "code",
   "execution_count": null,
   "metadata": {
    "hidden": true
   },
   "outputs": [],
   "source": [
    "relu_ensemble_embed = Result('2_relu_ensemble_embed', RESULTS_PATH, is_blind=BLIND)"
   ]
  },
  {
   "cell_type": "code",
   "execution_count": null,
   "metadata": {
    "hidden": true
   },
   "outputs": [],
   "source": [
    "relu_ensemble_embed"
   ]
  },
  {
   "cell_type": "code",
   "execution_count": null,
   "metadata": {
    "hidden": true,
    "scrolled": false
   },
   "outputs": [],
   "source": [
    "relu_ensemble_embed.print_results()"
   ]
  },
  {
   "cell_type": "code",
   "execution_count": null,
   "metadata": {
    "hidden": true
   },
   "outputs": [],
   "source": [
    "relu_ensemble_embed.print_table_row(relu_ensemble)"
   ]
  },
  {
   "cell_type": "code",
   "execution_count": null,
   "metadata": {
    "hidden": true
   },
   "outputs": [],
   "source": [
    "relu_ensemble_embed.plot()"
   ]
  },
  {
   "cell_type": "code",
   "execution_count": null,
   "metadata": {
    "hidden": true,
    "scrolled": false
   },
   "outputs": [],
   "source": [
    "relu_ensemble_embed.compare_to(relu_ensemble)"
   ]
  },
  {
   "cell_type": "markdown",
   "metadata": {
    "heading_collapsed": true
   },
   "source": [
    "# ReLU Ensemble Embed data-fixing"
   ]
  },
  {
   "cell_type": "code",
   "execution_count": null,
   "metadata": {
    "hidden": true
   },
   "outputs": [],
   "source": [
    "relu_ensemble_embed_fix = Result('3_relu_ensemble_embed_fix', RESULTS_PATH, is_blind=BLIND)"
   ]
  },
  {
   "cell_type": "code",
   "execution_count": null,
   "metadata": {
    "hidden": true
   },
   "outputs": [],
   "source": [
    "relu_ensemble_embed_fix"
   ]
  },
  {
   "cell_type": "code",
   "execution_count": null,
   "metadata": {
    "hidden": true,
    "scrolled": false
   },
   "outputs": [],
   "source": [
    "relu_ensemble_embed_fix.print_results()"
   ]
  },
  {
   "cell_type": "code",
   "execution_count": null,
   "metadata": {
    "hidden": true
   },
   "outputs": [],
   "source": [
    "relu_ensemble_embed_fix.print_table_row(relu_ensemble_embed)"
   ]
  },
  {
   "cell_type": "code",
   "execution_count": null,
   "metadata": {
    "hidden": true
   },
   "outputs": [],
   "source": [
    "relu_ensemble_embed_fix.plot()"
   ]
  },
  {
   "cell_type": "code",
   "execution_count": null,
   "metadata": {
    "hidden": true,
    "scrolled": false
   },
   "outputs": [],
   "source": [
    "relu_ensemble_embed_fix.compare_to(relu_ensemble_embed)"
   ]
  },
  {
   "cell_type": "markdown",
   "metadata": {
    "heading_collapsed": true
   },
   "source": [
    "# ReLU Ensemble Embed Aug"
   ]
  },
  {
   "cell_type": "code",
   "execution_count": null,
   "metadata": {
    "hidden": true
   },
   "outputs": [],
   "source": [
    "relu_ensemble_embed_aug = Result('4_relu_ensemble_embed_aug', RESULTS_PATH, is_blind=BLIND)"
   ]
  },
  {
   "cell_type": "code",
   "execution_count": null,
   "metadata": {
    "hidden": true
   },
   "outputs": [],
   "source": [
    "relu_ensemble_embed_aug"
   ]
  },
  {
   "cell_type": "code",
   "execution_count": null,
   "metadata": {
    "hidden": true,
    "scrolled": false
   },
   "outputs": [],
   "source": [
    "relu_ensemble_embed_aug.print_results()"
   ]
  },
  {
   "cell_type": "code",
   "execution_count": null,
   "metadata": {
    "hidden": true
   },
   "outputs": [],
   "source": [
    "relu_ensemble_embed_aug.print_table_row(relu_ensemble_embed_fix)"
   ]
  },
  {
   "cell_type": "code",
   "execution_count": null,
   "metadata": {
    "hidden": true
   },
   "outputs": [],
   "source": [
    "relu_ensemble_embed_aug.print_table_row(relu_ensemble)"
   ]
  },
  {
   "cell_type": "code",
   "execution_count": null,
   "metadata": {
    "hidden": true
   },
   "outputs": [],
   "source": [
    "relu_ensemble_embed_aug.plot()"
   ]
  },
  {
   "cell_type": "code",
   "execution_count": null,
   "metadata": {
    "hidden": true,
    "scrolled": false
   },
   "outputs": [],
   "source": [
    "relu_ensemble_embed_aug.compare_to(relu_ensemble_embed_fix)"
   ]
  },
  {
   "cell_type": "markdown",
   "metadata": {
    "heading_collapsed": true
   },
   "source": [
    "# ReLU Ensemble Embed Aug Cosine"
   ]
  },
  {
   "cell_type": "code",
   "execution_count": null,
   "metadata": {
    "hidden": true
   },
   "outputs": [],
   "source": [
    "relu_ensemble_embed_aug_cosine = Result('5_relu_ensemble_embed_aug_cosine', RESULTS_PATH, is_blind=BLIND)\n",
    "relu_ensemble_embed_aug_cosine"
   ]
  },
  {
   "cell_type": "code",
   "execution_count": null,
   "metadata": {
    "hidden": true,
    "scrolled": false
   },
   "outputs": [],
   "source": [
    "relu_ensemble_embed_aug_cosine.print_results()"
   ]
  },
  {
   "cell_type": "code",
   "execution_count": null,
   "metadata": {
    "hidden": true
   },
   "outputs": [],
   "source": [
    "relu_ensemble_embed_aug_cosine.print_table_row(relu_ensemble)"
   ]
  },
  {
   "cell_type": "code",
   "execution_count": null,
   "metadata": {
    "hidden": true
   },
   "outputs": [],
   "source": [
    "relu_ensemble_embed_aug_cosine.plot()"
   ]
  },
  {
   "cell_type": "code",
   "execution_count": null,
   "metadata": {
    "hidden": true,
    "scrolled": false
   },
   "outputs": [],
   "source": [
    "relu_ensemble_embed_aug_cosine.compare_to(relu_ensemble_embed_aug)"
   ]
  },
  {
   "cell_type": "markdown",
   "metadata": {
    "heading_collapsed": true
   },
   "source": [
    "# Swish Ensemble Embed Aug Cosine"
   ]
  },
  {
   "cell_type": "code",
   "execution_count": null,
   "metadata": {
    "hidden": true
   },
   "outputs": [],
   "source": [
    "swish_ensemble_embed_aug_cosine = Result('6_swish_ensemble_embed_aug_cosine', RESULTS_PATH, is_blind=BLIND)"
   ]
  },
  {
   "cell_type": "code",
   "execution_count": null,
   "metadata": {
    "hidden": true
   },
   "outputs": [],
   "source": [
    "swish_ensemble_embed_aug_cosine"
   ]
  },
  {
   "cell_type": "code",
   "execution_count": null,
   "metadata": {
    "hidden": true,
    "scrolled": false
   },
   "outputs": [],
   "source": [
    "swish_ensemble_embed_aug_cosine.print_results()"
   ]
  },
  {
   "cell_type": "code",
   "execution_count": null,
   "metadata": {
    "hidden": true
   },
   "outputs": [],
   "source": [
    "swish_ensemble_embed_aug_cosine.print_table_row(relu_ensemble)"
   ]
  },
  {
   "cell_type": "code",
   "execution_count": null,
   "metadata": {
    "hidden": true
   },
   "outputs": [],
   "source": [
    "swish_ensemble_embed_aug_cosine.plot()"
   ]
  },
  {
   "cell_type": "code",
   "execution_count": null,
   "metadata": {
    "hidden": true,
    "scrolled": false
   },
   "outputs": [],
   "source": [
    "swish_ensemble_embed_aug_cosine.compare_to(relu_ensemble_embed_aug_cosine)"
   ]
  },
  {
   "cell_type": "markdown",
   "metadata": {
    "heading_collapsed": true
   },
   "source": [
    "# Swish Ensemble Aug SSE"
   ]
  },
  {
   "cell_type": "code",
   "execution_count": null,
   "metadata": {
    "hidden": true
   },
   "outputs": [],
   "source": [
    "swish_ensemble_embed_aug_sse = Result('7_swish_ensemble_embed_aug_sse', RESULTS_PATH, is_blind=BLIND)"
   ]
  },
  {
   "cell_type": "code",
   "execution_count": null,
   "metadata": {
    "hidden": true
   },
   "outputs": [],
   "source": [
    "swish_ensemble_embed_aug_sse"
   ]
  },
  {
   "cell_type": "code",
   "execution_count": null,
   "metadata": {
    "hidden": true
   },
   "outputs": [],
   "source": [
    "swish_ensemble_embed_aug_sse.print_results()"
   ]
  },
  {
   "cell_type": "code",
   "execution_count": null,
   "metadata": {
    "hidden": true
   },
   "outputs": [],
   "source": [
    "swish_ensemble_embed_aug_sse.print_table_row(swish_ensemble_embed_aug_cosine)"
   ]
  },
  {
   "cell_type": "code",
   "execution_count": null,
   "metadata": {
    "hidden": true
   },
   "outputs": [],
   "source": [
    "swish_ensemble_embed_aug_sse.plot()"
   ]
  },
  {
   "cell_type": "code",
   "execution_count": null,
   "metadata": {
    "hidden": true
   },
   "outputs": [],
   "source": [
    "swish_ensemble_embed_aug_sse.compare_to(swish_ensemble_embed_aug_cosine)"
   ]
  },
  {
   "cell_type": "markdown",
   "metadata": {
    "heading_collapsed": true
   },
   "source": [
    "# Swish Ensemble Aug FGE"
   ]
  },
  {
   "cell_type": "code",
   "execution_count": null,
   "metadata": {
    "hidden": true
   },
   "outputs": [],
   "source": [
    "swish_ensemble_embed_aug_fge = Result('8_swish_ensemble_embed_aug_fge', RESULTS_PATH, is_blind=BLIND)"
   ]
  },
  {
   "cell_type": "code",
   "execution_count": null,
   "metadata": {
    "hidden": true
   },
   "outputs": [],
   "source": [
    "swish_ensemble_embed_aug_fge"
   ]
  },
  {
   "cell_type": "code",
   "execution_count": null,
   "metadata": {
    "hidden": true
   },
   "outputs": [],
   "source": [
    "swish_ensemble_embed_aug_fge.print_results()"
   ]
  },
  {
   "cell_type": "code",
   "execution_count": null,
   "metadata": {
    "hidden": true
   },
   "outputs": [],
   "source": [
    "swish_ensemble_embed_aug_fge.print_table_row(swish_ensemble_embed_aug_cosine)"
   ]
  },
  {
   "cell_type": "code",
   "execution_count": null,
   "metadata": {
    "hidden": true
   },
   "outputs": [],
   "source": [
    "swish_ensemble_embed_aug_fge.plot()"
   ]
  },
  {
   "cell_type": "code",
   "execution_count": null,
   "metadata": {
    "hidden": true,
    "scrolled": false
   },
   "outputs": [],
   "source": [
    "swish_ensemble_embed_aug_fge.compare_to(swish_ensemble_embed_aug_cosine)"
   ]
  },
  {
   "cell_type": "markdown",
   "metadata": {
    "heading_collapsed": true
   },
   "source": [
    "# Swish Ensemble Aug SWA constant LR"
   ]
  },
  {
   "cell_type": "code",
   "execution_count": null,
   "metadata": {
    "hidden": true
   },
   "outputs": [],
   "source": [
    "swish_ensemble_embed_aug_swaconst = Result('9_swish_ensemble_embed_aug_swaconst', RESULTS_PATH, is_blind=BLIND)"
   ]
  },
  {
   "cell_type": "code",
   "execution_count": null,
   "metadata": {
    "hidden": true
   },
   "outputs": [],
   "source": [
    "swish_ensemble_embed_aug_swaconst"
   ]
  },
  {
   "cell_type": "code",
   "execution_count": null,
   "metadata": {
    "hidden": true
   },
   "outputs": [],
   "source": [
    "swish_ensemble_embed_aug_swaconst.print_results()"
   ]
  },
  {
   "cell_type": "code",
   "execution_count": null,
   "metadata": {
    "hidden": true
   },
   "outputs": [],
   "source": [
    "swish_ensemble_embed_aug_swaconst.print_table_row(swish_ensemble_embed_aug_cosine)"
   ]
  },
  {
   "cell_type": "code",
   "execution_count": null,
   "metadata": {
    "hidden": true
   },
   "outputs": [],
   "source": [
    "swish_ensemble_embed_aug_swaconst.print_table_row(relu_ensemble)"
   ]
  },
  {
   "cell_type": "code",
   "execution_count": null,
   "metadata": {
    "hidden": true
   },
   "outputs": [],
   "source": [
    "swish_ensemble_embed_aug_swaconst.plot()"
   ]
  },
  {
   "cell_type": "code",
   "execution_count": null,
   "metadata": {
    "hidden": true
   },
   "outputs": [],
   "source": [
    "swish_ensemble_embed_aug_swaconst.compare_to(swish_ensemble_embed_aug_cosine)"
   ]
  },
  {
   "cell_type": "markdown",
   "metadata": {
    "heading_collapsed": true
   },
   "source": [
    "# Swish Ensemble Aug SWA cosine1 cycled LR"
   ]
  },
  {
   "cell_type": "code",
   "execution_count": null,
   "metadata": {
    "hidden": true
   },
   "outputs": [],
   "source": [
    "swish_ensemble_embed_aug_swacosine1 = Result('10_swish_ensemble_embed_aug_swacosine1', RESULTS_PATH, is_blind=BLIND)"
   ]
  },
  {
   "cell_type": "code",
   "execution_count": null,
   "metadata": {
    "hidden": true
   },
   "outputs": [],
   "source": [
    "swish_ensemble_embed_aug_swacosine1"
   ]
  },
  {
   "cell_type": "code",
   "execution_count": null,
   "metadata": {
    "hidden": true
   },
   "outputs": [],
   "source": [
    "swish_ensemble_embed_aug_swacosine1.print_results()"
   ]
  },
  {
   "cell_type": "code",
   "execution_count": null,
   "metadata": {
    "hidden": true
   },
   "outputs": [],
   "source": [
    "swish_ensemble_embed_aug_swacosine1.print_table_row(swish_ensemble_embed_aug_cosine)"
   ]
  },
  {
   "cell_type": "code",
   "execution_count": null,
   "metadata": {
    "hidden": true
   },
   "outputs": [],
   "source": [
    "swish_ensemble_embed_aug_swacosine1.plot()"
   ]
  },
  {
   "cell_type": "code",
   "execution_count": null,
   "metadata": {
    "hidden": true
   },
   "outputs": [],
   "source": [
    "swish_ensemble_embed_aug_swacosine1.compare_to(swish_ensemble_embed_aug_swaconst)"
   ]
  },
  {
   "cell_type": "markdown",
   "metadata": {
    "heading_collapsed": true
   },
   "source": [
    "# Swish Ensemble Aug SWA linear cycled LR"
   ]
  },
  {
   "cell_type": "code",
   "execution_count": null,
   "metadata": {
    "hidden": true
   },
   "outputs": [],
   "source": [
    "swish_ensemble_embed_aug_swacyclic = Result('12_swish_ensemble_embed_aug_swacyclic', RESULTS_PATH, is_blind=BLIND)"
   ]
  },
  {
   "cell_type": "code",
   "execution_count": null,
   "metadata": {
    "hidden": true
   },
   "outputs": [],
   "source": [
    "swish_ensemble_embed_aug_swacyclic"
   ]
  },
  {
   "cell_type": "code",
   "execution_count": null,
   "metadata": {
    "hidden": true
   },
   "outputs": [],
   "source": [
    "swish_ensemble_embed_aug_swacyclic.print_results()"
   ]
  },
  {
   "cell_type": "code",
   "execution_count": null,
   "metadata": {
    "hidden": true
   },
   "outputs": [],
   "source": [
    "swish_ensemble_embed_aug_swacyclic.print_table_row(swish_ensemble_embed_aug_cosine)"
   ]
  },
  {
   "cell_type": "code",
   "execution_count": null,
   "metadata": {
    "hidden": true
   },
   "outputs": [],
   "source": [
    "swish_ensemble_embed_aug_swacyclic.plot()"
   ]
  },
  {
   "cell_type": "code",
   "execution_count": null,
   "metadata": {
    "hidden": true
   },
   "outputs": [],
   "source": [
    "swish_ensemble_embed_aug_swacyclic.compare_to(swish_ensemble_embed_aug_swaconst)"
   ]
  },
  {
   "cell_type": "markdown",
   "metadata": {
    "heading_collapsed": true
   },
   "source": [
    "# Swish Ensemble Aug onecycle"
   ]
  },
  {
   "cell_type": "code",
   "execution_count": null,
   "metadata": {
    "hidden": true
   },
   "outputs": [],
   "source": [
    "swish_ensemble_embed_aug_onecycle = Result('12_swish_ensemble_embed_aug_onecycle', RESULTS_PATH, is_blind=BLIND)"
   ]
  },
  {
   "cell_type": "code",
   "execution_count": null,
   "metadata": {
    "hidden": true
   },
   "outputs": [],
   "source": [
    "swish_ensemble_embed_aug_onecycle"
   ]
  },
  {
   "cell_type": "code",
   "execution_count": null,
   "metadata": {
    "hidden": true
   },
   "outputs": [],
   "source": [
    "swish_ensemble_embed_aug_onecycle.print_results()"
   ]
  },
  {
   "cell_type": "code",
   "execution_count": null,
   "metadata": {
    "hidden": true
   },
   "outputs": [],
   "source": [
    "swish_ensemble_embed_aug_onecycle.results['test_private_ams']"
   ]
  },
  {
   "cell_type": "code",
   "execution_count": null,
   "metadata": {
    "hidden": true,
    "scrolled": true
   },
   "outputs": [],
   "source": [
    "swish_ensemble_embed_aug_onecycle.print_table_row(swish_ensemble_embed_aug_swaconst)"
   ]
  },
  {
   "cell_type": "code",
   "execution_count": null,
   "metadata": {
    "hidden": true,
    "scrolled": true
   },
   "outputs": [],
   "source": [
    "swish_ensemble_embed_aug_onecycle.print_table_row(relu_ensemble)"
   ]
  },
  {
   "cell_type": "code",
   "execution_count": null,
   "metadata": {
    "hidden": true
   },
   "outputs": [],
   "source": [
    "swish_ensemble_embed_aug_onecycle.plot()"
   ]
  },
  {
   "cell_type": "code",
   "execution_count": null,
   "metadata": {
    "hidden": true,
    "scrolled": false
   },
   "outputs": [],
   "source": [
    "swish_ensemble_embed_aug_onecycle.compare_to(swish_ensemble_embed_aug_swaconst)"
   ]
  },
  {
   "cell_type": "markdown",
   "metadata": {},
   "source": [
    "# Swish Ensemble Aug Onecycle dense"
   ]
  },
  {
   "cell_type": "code",
   "execution_count": 8,
   "metadata": {},
   "outputs": [],
   "source": [
    "swish_ensemble_embed_aug_onecycle_dense = Result('13_swish_ensemble_embed_aug_onecycle_dense', RESULTS_PATH, is_blind=BLIND)"
   ]
  },
  {
   "cell_type": "code",
   "execution_count": 9,
   "metadata": {},
   "outputs": [
    {
     "data": {
      "text/plain": [
       "Experiment:\t13_swish_ensemble_embed_aug_onecycle_dense\n",
       "Machines:\n",
       "\tdaedalus\n",
       "\thelios_cpu\n",
       "\thelios_cuda\n",
       "\ticarus\n",
       "\tmbp\n",
       "\tmorpheus"
      ]
     },
     "execution_count": 9,
     "metadata": {},
     "output_type": "execute_result"
    }
   ],
   "source": [
    "swish_ensemble_embed_aug_onecycle_dense"
   ]
  },
  {
   "cell_type": "code",
   "execution_count": 10,
   "metadata": {},
   "outputs": [
    {
     "name": "stdout",
     "output_type": "stream",
     "text": [
      "val_time_no_tta:\n",
      "\tIntel Core i7-8559U CPU @ 2.7 GHz (4x2)\t1.7878719499999534±0.0\n",
      "\tIntel Core i7-8700K CPU @ 3.7 GHz (6x2)\t0.45195758599993496±0.0\n",
      "\tIntel Xenon Skylake CPU @ 2.2 GHz (2x2)\t1.42796029150486±0.0\n",
      "\tIntel Xenon Skylake CPU @ 2.2 GHz (4x1)\t0.96±0.09\n",
      "\tNvidia GeForce GTX 1080 Ti GPU\t0.13992497100002765±0.0\n",
      "val_time:\n",
      "\tIntel Core i7-8559U CPU @ 2.7 GHz (4x2)\t16.97981351699991±0.0\n",
      "\tIntel Core i7-8700K CPU @ 3.7 GHz (6x2)\t5.924541684999895±0.0\n",
      "\tIntel Xenon Skylake CPU @ 2.2 GHz (2x2)\t17.115993600338697±0.0\n",
      "\tIntel Xenon Skylake CPU @ 2.2 GHz (4x1)\t13.7±0.2\n",
      "\tNvidia GeForce GTX 1080 Ti GPU\t4.344949871999916±0.0\n",
      "val_ams_smooth_no_tta:\t3.86±0.04\n",
      "val_ams_smooth:\t3.86±0.04\n",
      "val_ams_max_no_tta:\t3.93±0.05\n",
      "val_ams_max:\t4.0±0.05\n",
      "train_time:\n",
      "\tIntel Core i7-8559U CPU @ 2.7 GHz (4x2)\t1145.833141661±0.0\n",
      "\tIntel Core i7-8700K CPU @ 3.7 GHz (6x2)\t743.5037136450001±0.0\n",
      "\tIntel Xenon Skylake CPU @ 2.2 GHz (2x2)\t1397.3590333350003±0.0\n",
      "\tIntel Xenon Skylake CPU @ 2.2 GHz (4x1)\t1500±200\n",
      "\tNvidia GeForce GTX 1080 Ti GPU\t668.7882737719999±0.0\n",
      "test_time_no_tta:\n",
      "\tIntel Core i7-8559U CPU @ 2.7 GHz (4x2)\t19.038643604999834±0.0\n",
      "\tIntel Core i7-8700K CPU @ 3.7 GHz (6x2)\t4.783288466000158±0.0\n",
      "\tIntel Xenon Skylake CPU @ 2.2 GHz (2x2)\t19.45932426303625±0.0\n",
      "\tIntel Xenon Skylake CPU @ 2.2 GHz (4x1)\t9.6±0.8\n",
      "\tNvidia GeForce GTX 1080 Ti GPU\t0.5776828449997993±0.0\n",
      "test_time:\n",
      "\tIntel Core i7-8559U CPU @ 2.7 GHz (4x2)\t167.2355282360004±0.0\n",
      "\tIntel Core i7-8700K CPU @ 3.7 GHz (6x2)\t53.68321215299966±0.0\n",
      "\tIntel Xenon Skylake CPU @ 2.2 GHz (2x2)\t168.9303200505674±0.0\n",
      "\tIntel Xenon Skylake CPU @ 2.2 GHz (4x1)\t96±5\n",
      "\tNvidia GeForce GTX 1080 Ti GPU\t18.61797429699982±0.0\n",
      "test_public_ams_no_tta:\t3.77±0.01\n",
      "test_public_ams_mean_no_tta:\t3.794±0.008\n",
      "test_public_ams_mean:\t3.81±0.01\n",
      "test_public_ams:\t3.79±0.01\n",
      "test_private_ams_no_tta:\t3.802±0.003\n",
      "test_private_ams_mean_no_tta:\t3.808±0.003\n",
      "test_private_ams_mean:\t3.811±0.005\n",
      "test_private_ams:\t3.806±0.005\n"
     ]
    }
   ],
   "source": [
    "swish_ensemble_embed_aug_onecycle_dense.print_results()"
   ]
  },
  {
   "cell_type": "code",
   "execution_count": null,
   "metadata": {},
   "outputs": [],
   "source": [
    "swish_ensemble_embed_aug_onecycle_dense.print_table_row(swish_ensemble_embed_aug_onecycle)"
   ]
  },
  {
   "cell_type": "code",
   "execution_count": null,
   "metadata": {},
   "outputs": [],
   "source": [
    "swish_ensemble_embed_aug_onecycle_dense.print_table_row(relu_ensemble)"
   ]
  },
  {
   "cell_type": "code",
   "execution_count": null,
   "metadata": {},
   "outputs": [],
   "source": [
    "swish_ensemble_embed_aug_onecycle_dense.plot()"
   ]
  },
  {
   "cell_type": "code",
   "execution_count": null,
   "metadata": {
    "scrolled": false
   },
   "outputs": [],
   "source": [
    "swish_ensemble_embed_aug_onecycle_dense.compare_to(swish_ensemble_embed_aug_onecycle)"
   ]
  },
  {
   "cell_type": "code",
   "execution_count": null,
   "metadata": {
    "scrolled": false
   },
   "outputs": [],
   "source": [
    "swish_ensemble_embed_aug_onecycle_dense.compare_to(swish_ensemble_embed_aug_cosine)"
   ]
  },
  {
   "cell_type": "code",
   "execution_count": null,
   "metadata": {
    "scrolled": false
   },
   "outputs": [],
   "source": [
    "swish_ensemble_embed_aug_onecycle_dense.compare_to(swish_ensemble_embed_aug_swaconst)"
   ]
  },
  {
   "cell_type": "markdown",
   "metadata": {
    "heading_collapsed": true
   },
   "source": [
    "# Swish Ensemble Aug Onecycle dense Split"
   ]
  },
  {
   "cell_type": "code",
   "execution_count": null,
   "metadata": {
    "hidden": true
   },
   "outputs": [],
   "source": [
    "swish_ensemble_embed_aug_onecycle_dense_split = Result('14_swish_ensemble_embed_aug_onecycle_dense_split', RESULTS_PATH, is_blind=BLIND)"
   ]
  },
  {
   "cell_type": "code",
   "execution_count": null,
   "metadata": {
    "hidden": true
   },
   "outputs": [],
   "source": [
    "swish_ensemble_embed_aug_onecycle_dense_split"
   ]
  },
  {
   "cell_type": "code",
   "execution_count": null,
   "metadata": {
    "hidden": true
   },
   "outputs": [],
   "source": [
    "swish_ensemble_embed_aug_onecycle_dense_split.print_results()"
   ]
  },
  {
   "cell_type": "code",
   "execution_count": null,
   "metadata": {
    "hidden": true
   },
   "outputs": [],
   "source": [
    "swish_ensemble_embed_aug_onecycle_dense_split.print_table_row(swish_ensemble_embed_aug_onecycle_dense)"
   ]
  },
  {
   "cell_type": "code",
   "execution_count": null,
   "metadata": {
    "hidden": true
   },
   "outputs": [],
   "source": [
    "swish_ensemble_embed_aug_onecycle_dense_split.plot()"
   ]
  },
  {
   "cell_type": "code",
   "execution_count": null,
   "metadata": {
    "hidden": true,
    "scrolled": false
   },
   "outputs": [],
   "source": [
    "swish_ensemble_embed_aug_onecycle_dense_split.compare_to(swish_ensemble_embed_aug_onecycle_dense)"
   ]
  },
  {
   "cell_type": "markdown",
   "metadata": {
    "heading_collapsed": true
   },
   "source": [
    "# Swish Ensemble Aug Onecycle dense Bottleneck"
   ]
  },
  {
   "cell_type": "code",
   "execution_count": null,
   "metadata": {
    "hidden": true
   },
   "outputs": [],
   "source": [
    "swish_ensemble_embed_aug_onecycle_dense_split_bottleneck = Result('15_swish_ensemble_embed_aug_onecycle_dense_split_bottleneck', RESULTS_PATH, is_blind=BLIND)"
   ]
  },
  {
   "cell_type": "code",
   "execution_count": null,
   "metadata": {
    "hidden": true
   },
   "outputs": [],
   "source": [
    "swish_ensemble_embed_aug_onecycle_dense_split_bottleneck"
   ]
  },
  {
   "cell_type": "code",
   "execution_count": null,
   "metadata": {
    "hidden": true
   },
   "outputs": [],
   "source": [
    "swish_ensemble_embed_aug_onecycle_dense_split_bottleneck.print_results()"
   ]
  },
  {
   "cell_type": "code",
   "execution_count": null,
   "metadata": {
    "hidden": true
   },
   "outputs": [],
   "source": [
    "swish_ensemble_embed_aug_onecycle_dense_split_bottleneck.print_table_row(swish_ensemble_embed_aug_onecycle_dense)"
   ]
  },
  {
   "cell_type": "code",
   "execution_count": null,
   "metadata": {
    "hidden": true
   },
   "outputs": [],
   "source": [
    "swish_ensemble_embed_aug_onecycle_dense_split_bottleneck.plot()"
   ]
  },
  {
   "cell_type": "code",
   "execution_count": null,
   "metadata": {
    "hidden": true,
    "scrolled": false
   },
   "outputs": [],
   "source": [
    "swish_ensemble_embed_aug_onecycle_dense_split_bottleneck.compare_to(swish_ensemble_embed_aug_onecycle_dense)"
   ]
  },
  {
   "cell_type": "code",
   "execution_count": null,
   "metadata": {
    "hidden": true,
    "scrolled": false
   },
   "outputs": [],
   "source": [
    "swish_ensemble_embed_aug_onecycle_dense_split_bottleneck.compare_to(swish_ensemble_embed_aug_onecycle_dense_split)"
   ]
  },
  {
   "cell_type": "markdown",
   "metadata": {
    "heading_collapsed": true
   },
   "source": [
    "# Swish Ensemble Aug Onecycle dense Wide-deep"
   ]
  },
  {
   "cell_type": "code",
   "execution_count": null,
   "metadata": {
    "hidden": true
   },
   "outputs": [],
   "source": [
    "swish_ensemble_embed_aug_onecycle_dense_wide_deep = Result('16_swish_ensemble_embed_aug_onecycle_dense_wide-deep', RESULTS_PATH, is_blind=BLIND)"
   ]
  },
  {
   "cell_type": "code",
   "execution_count": null,
   "metadata": {
    "hidden": true
   },
   "outputs": [],
   "source": [
    "swish_ensemble_embed_aug_onecycle_dense_wide_deep"
   ]
  },
  {
   "cell_type": "code",
   "execution_count": null,
   "metadata": {
    "hidden": true
   },
   "outputs": [],
   "source": [
    "swish_ensemble_embed_aug_onecycle_dense_wide_deep.print_results()"
   ]
  },
  {
   "cell_type": "code",
   "execution_count": null,
   "metadata": {
    "hidden": true
   },
   "outputs": [],
   "source": [
    "swish_ensemble_embed_aug_onecycle_dense_wide_deep.print_table_row(swish_ensemble_embed_aug_onecycle_dense)"
   ]
  },
  {
   "cell_type": "code",
   "execution_count": null,
   "metadata": {
    "hidden": true
   },
   "outputs": [],
   "source": [
    "swish_ensemble_embed_aug_onecycle_dense_wide_deep.plot()"
   ]
  },
  {
   "cell_type": "code",
   "execution_count": null,
   "metadata": {
    "hidden": true,
    "scrolled": false
   },
   "outputs": [],
   "source": [
    "swish_ensemble_embed_aug_onecycle_dense_wide_deep.compare_to(swish_ensemble_embed_aug_onecycle_dense)"
   ]
  },
  {
   "cell_type": "code",
   "execution_count": null,
   "metadata": {
    "hidden": true,
    "scrolled": false
   },
   "outputs": [],
   "source": [
    "swish_ensemble_embed_aug_onecycle_dense_wide_deep.compare_to(swish_ensemble_embed_aug_onecycle_dense_split_bottleneck)"
   ]
  },
  {
   "cell_type": "code",
   "execution_count": null,
   "metadata": {
    "hidden": true
   },
   "outputs": [],
   "source": []
  },
  {
   "cell_type": "markdown",
   "metadata": {},
   "source": [
    "# Plot "
   ]
  },
  {
   "cell_type": "code",
   "execution_count": null,
   "metadata": {},
   "outputs": [],
   "source": [
    "relu_baseline.exp_name = '1_relu'\n",
    "swish_ensemble_embed_aug_swaconst.exp_name = '9_swish_ensemble_embed_aug_swa'"
   ]
  },
  {
   "cell_type": "code",
   "execution_count": null,
   "metadata": {},
   "outputs": [],
   "source": [
    "exp_comp = ExpComp([relu_baseline, relu_ensemble,\n",
    "                    relu_ensemble_embed, relu_ensemble_embed_fix, relu_ensemble_embed_aug,\n",
    "                    relu_ensemble_embed_aug_cosine,\n",
    "                    swish_ensemble_embed_aug_cosine,\n",
    "                    swish_ensemble_embed_aug_swaconst,\n",
    "                    swish_ensemble_embed_aug_onecycle,\n",
    "                    swish_ensemble_embed_aug_onecycle_dense])"
   ]
  },
  {
   "cell_type": "code",
   "execution_count": null,
   "metadata": {
    "scrolled": false
   },
   "outputs": [],
   "source": [
    "exp_comp.plot_ams(False, savename='plots/ams_evo')"
   ]
  },
  {
   "cell_type": "code",
   "execution_count": null,
   "metadata": {
    "scrolled": false
   },
   "outputs": [],
   "source": [
    "exp_comp.plot_time(savename='plots/abs')"
   ]
  },
  {
   "cell_type": "code",
   "execution_count": null,
   "metadata": {
    "scrolled": false
   },
   "outputs": [],
   "source": [
    "exp_comp.plot_time(delta=True, frac=True, savename='plots/rel')"
   ]
  }
 ],
 "metadata": {
  "kernelspec": {
   "display_name": "Python 3",
   "language": "python",
   "name": "python3"
  },
  "language_info": {
   "codemirror_mode": {
    "name": "ipython",
    "version": 3
   },
   "file_extension": ".py",
   "mimetype": "text/x-python",
   "name": "python",
   "nbconvert_exporter": "python",
   "pygments_lexer": "ipython3",
   "version": "3.6.5"
  },
  "toc": {
   "base_numbering": 1,
   "nav_menu": {},
   "number_sections": true,
   "sideBar": true,
   "skip_h1_title": false,
   "title_cell": "Table of Contents",
   "title_sidebar": "Contents",
   "toc_cell": false,
   "toc_position": {},
   "toc_section_display": true,
   "toc_window_display": false
  }
 },
 "nbformat": 4,
 "nbformat_minor": 2
}
